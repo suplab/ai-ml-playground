{
 "cells": [
  {
   "cell_type": "markdown",
   "metadata": {},
   "source": [
    "# **In-Context Engineering and Prompt Templates**\n"
   ]
  },
  {
   "cell_type": "markdown",
   "metadata": {},
   "source": [
    "## Overview\n"
   ]
  },
  {
   "cell_type": "markdown",
   "metadata": {},
   "source": [
    "You're stepping into the world of prompt engineering, where each command you craft has the power to guide intelligent LLM systems toward specific outcomes. In this tutorial, you will explore the foundational aspects of prompt engineering, dive into advanced techniques of in-context learning, such as few-shot and self-consistent learning, and learn how to effectively use tools like Langchain.\n",
    "\n",
    "Start by understanding the basics—how to formulate prompts that communicate effectively with AI. From there, we'll explore how the Langchain prompt template can simplify and enhance this process, making it more structured and efficient.\n",
    "\n",
    "As you progress, you'll learn to apply these skills in practical scenarios, creating sophisticated applications like QA bots and text summarization tools. By using the Langchain prompt template, you'll see firsthand how structured prompting can streamline the development of these applications, transforming complex requirements into clear, concise tasks for AI.\n"
   ]
  },
  {
   "cell_type": "markdown",
   "metadata": {},
   "source": [
    "<img src=\"https://cf-courses-data.s3.us.cloud-object-storage.appdomain.cloud/ai8G4tOU4mksEYfv5wsghA/prompt%20engineering.png\" width=\"50%\" alt=\"indexing\"/>\n"
   ]
  },
  {
   "cell_type": "markdown",
   "metadata": {},
   "source": [
    "By the end of this tutorial, you'll not only master the different techniques of prompt engineering but also acquire hands-on experience in applying these techniques to real-world problems, ensuring you're well-prepared to harness the full potential of AI in various settings.\n"
   ]
  },
  {
   "cell_type": "markdown",
   "metadata": {},
   "source": [
    "## __Table of Contents__\n",
    "\n",
    "<ol>\n",
    "    <li><a href=\"#Objectives\">Objectives</a></li>\n",
    "    <li>\n",
    "        <a href=\"#Setup\">Setup</a>\n",
    "        <ol>\n",
    "            <li><a href=\"#Installing-required-libraries\">Installing required libraries</a></li>\n",
    "            <li><a href=\"#Importing-required-libraries\">Importing required libraries</a></li>\n",
    "            <li><a href=\"#Setup-LLM\">Setup LLM</a></li>\n",
    "        </ol>\n",
    "    </li>\n",
    "    <li>\n",
    "        <a href=\"#Prompt-engineering\">Prompt engineering</a>\n",
    "        <ol>\n",
    "            <li><a href=\"#First-basic-prompt\">First basic prompt</a></li>\n",
    "            <li><a href=\"#Zero-shot-prompt\">Zero-shot prompt</a></li>\n",
    "            <li><a href=\"#One-shot-prompt\">One-shot prompt</a></li>\n",
    "            <li><a href=\"#Few-shot-prompt\">Few-shot prompt</a></li>\n",
    "            <li><a href=\"#Chain-of-thought-(CoT)-prompting\">Chain-of-thought (CoT) prompting</a></li>\n",
    "            <li><a href=\"#Self-consistency\">Self-consistency</a></li>\n",
    "        </ol>\n",
    "    </li>\n",
    "    <li>\n",
    "        <a href=\"#Applications\">Applications</a>\n",
    "        <ol>\n",
    "            <li><a href=\"#Prompt-template\">Prompt template</a></li>\n",
    "            <li><a href=\"#Text-summarization\">Text summarization</a></li>\n",
    "            <li><a href=\"#Question-answering\">Question answering</a></li>\n",
    "            <li><a href=\"#Text-classification\">Text classification</a></li>\n",
    "            <li><a href=\"#Code-generation\">Code generation</a></li>\n",
    "            <li><a href=\"#Role-playing\">Role playing</a></li>\n",
    "        </ol>\n",
    "    </li>\n",
    "</ol>\n",
    "\n",
    "<a href=\"#Exercises\">Exercises</a>\n",
    "<ol>\n",
    "    <li><a href=\"#Exercise-1:-Change-parameters-for-the-LLM\">Exercise 1: Change parameters for the LLM</a></li>\n",
    "    <li><a href=\"#Exercise-2:-Observe-how-LLM-thinks\">Exercise 2: Observe how LLM thinks</a></li>\n",
    "    <li><a href=\"#Exercise-3:-Revise-the-text-classification-agent-to-one-shot-learning\">Exercise 3: Revise the text classification agent to one-shot learning</a></li>\n",
    "</ol>\n"
   ]
  },
  {
   "cell_type": "markdown",
   "metadata": {},
   "source": [
    "## Objectives\n",
    "\n",
    "After completing this lab, you will be able to:\n",
    "\n",
    "- **Understand the basics of prompt engineering**: Gain a solid foundation in how to effectively communicate with LLM using prompts, setting the stage for more advanced techniques.\n",
    "\n",
    "- **Master advanced prompt techniques**: Learn and apply advanced prompt engineering techniques such as few-shot and self-consistent learning to optimize the LLM's response.\n",
    "\n",
    "- **Utilize LangChain prompt template**: Become proficient in using LangChain's prompt template to structure and optimize your interactions with LLM.\n",
    "\n",
    "- **Develop practical LLM agents**: Acquire the skills to create and implement agents such as QA bots and text summarization using the Langchain prompt template, translating theoretical knowledge into practical solutions.\n"
   ]
  },
  {
   "cell_type": "markdown",
   "metadata": {},
   "source": [
    "----\n"
   ]
  },
  {
   "cell_type": "markdown",
   "metadata": {},
   "source": [
    "## Setup\n"
   ]
  },
  {
   "cell_type": "markdown",
   "metadata": {},
   "source": [
    "For this lab, you will be using the following libraries:\n",
    "\n",
    "*   [`ibm-watsonx-ai`](https://ibm.github.io/watson-machine-learning-sdk/index.html) for using LLMs from IBM's watsonx.ai.\n",
    "*   [`langchain`](https://www.langchain.com/) for using langchain's different chain and prompt functions.\n",
    "*   [`langchain-ibm`](https://python.langchain.com/v0.1/docs/integrations/llms/ibm_watsonx/) provides integration between langchain and ibm-watsonx-ai.\n"
   ]
  },
  {
   "cell_type": "markdown",
   "metadata": {},
   "source": [
    "### Installing required libraries\n",
    "\n",
    "The following required libraries are __not__ preinstalled in the Skills Network Labs environment. __You must run the following cell__ to install them:\n",
    "\n",
    "**Note:** The version has been pinned here to specify the version. It's recommended that you do this as well. Even though the library will be updated in the future, the library could still support this lab work.\n",
    "\n",
    "This might take approximately 1-2 minutes.\n",
    "\n",
    "`%%capture` has been used to capture the installation, you won't see the output process. But once the installation is done, you will see a number beside the cell.\n",
    "\n",
    "***Note : After installing please ensure that you restart the kernel and execute the subsequent cells.***\n"
   ]
  },
  {
   "cell_type": "code",
   "execution_count": 2,
   "metadata": {},
   "outputs": [
    {
     "name": "stdout",
     "output_type": "stream",
     "text": [
      "Requirement already satisfied: ibm-watsonx-ai==0.2.6 in /home/jupyterlab/.local/lib/python3.12/site-packages (0.2.6)\n",
      "Requirement already satisfied: ibm-watson-machine-learning>=1.0.349 in /home/jupyterlab/.local/lib/python3.12/site-packages (from ibm-watsonx-ai==0.2.6) (1.0.368)\n",
      "Requirement already satisfied: requests in /home/jupyterlab/.local/lib/python3.12/site-packages (from ibm-watson-machine-learning>=1.0.349->ibm-watsonx-ai==0.2.6) (2.32.5)\n",
      "Requirement already satisfied: urllib3 in /home/jupyterlab/.local/lib/python3.12/site-packages (from ibm-watson-machine-learning>=1.0.349->ibm-watsonx-ai==0.2.6) (2.5.0)\n",
      "Requirement already satisfied: pandas<2.2.0,>=0.24.2 in /home/jupyterlab/.local/lib/python3.12/site-packages (from ibm-watson-machine-learning>=1.0.349->ibm-watsonx-ai==0.2.6) (2.1.4)\n",
      "Requirement already satisfied: certifi in /opt/conda/lib/python3.12/site-packages (from ibm-watson-machine-learning>=1.0.349->ibm-watsonx-ai==0.2.6) (2024.12.14)\n",
      "Requirement already satisfied: lomond in /home/jupyterlab/.local/lib/python3.12/site-packages (from ibm-watson-machine-learning>=1.0.349->ibm-watsonx-ai==0.2.6) (0.3.3)\n",
      "Requirement already satisfied: tabulate in /home/jupyterlab/.local/lib/python3.12/site-packages (from ibm-watson-machine-learning>=1.0.349->ibm-watsonx-ai==0.2.6) (0.9.0)\n",
      "Requirement already satisfied: packaging in /opt/conda/lib/python3.12/site-packages (from ibm-watson-machine-learning>=1.0.349->ibm-watsonx-ai==0.2.6) (24.2)\n",
      "Requirement already satisfied: ibm-cos-sdk<2.15.0,>=2.12.0 in /home/jupyterlab/.local/lib/python3.12/site-packages (from ibm-watson-machine-learning>=1.0.349->ibm-watsonx-ai==0.2.6) (2.14.3)\n",
      "Requirement already satisfied: importlib-metadata in /opt/conda/lib/python3.12/site-packages (from ibm-watson-machine-learning>=1.0.349->ibm-watsonx-ai==0.2.6) (8.6.1)\n",
      "Requirement already satisfied: ibm-cos-sdk-core==2.14.3 in /home/jupyterlab/.local/lib/python3.12/site-packages (from ibm-cos-sdk<2.15.0,>=2.12.0->ibm-watson-machine-learning>=1.0.349->ibm-watsonx-ai==0.2.6) (2.14.3)\n",
      "Requirement already satisfied: ibm-cos-sdk-s3transfer==2.14.3 in /home/jupyterlab/.local/lib/python3.12/site-packages (from ibm-cos-sdk<2.15.0,>=2.12.0->ibm-watson-machine-learning>=1.0.349->ibm-watsonx-ai==0.2.6) (2.14.3)\n",
      "Requirement already satisfied: jmespath<=1.0.1,>=0.10.0 in /home/jupyterlab/.local/lib/python3.12/site-packages (from ibm-cos-sdk<2.15.0,>=2.12.0->ibm-watson-machine-learning>=1.0.349->ibm-watsonx-ai==0.2.6) (1.0.1)\n",
      "Requirement already satisfied: python-dateutil<3.0.0,>=2.9.0 in /opt/conda/lib/python3.12/site-packages (from ibm-cos-sdk-core==2.14.3->ibm-cos-sdk<2.15.0,>=2.12.0->ibm-watson-machine-learning>=1.0.349->ibm-watsonx-ai==0.2.6) (2.9.0.post0)\n",
      "Requirement already satisfied: numpy<2,>=1.26.0 in /home/jupyterlab/.local/lib/python3.12/site-packages (from pandas<2.2.0,>=0.24.2->ibm-watson-machine-learning>=1.0.349->ibm-watsonx-ai==0.2.6) (1.26.4)\n",
      "Requirement already satisfied: pytz>=2020.1 in /opt/conda/lib/python3.12/site-packages (from pandas<2.2.0,>=0.24.2->ibm-watson-machine-learning>=1.0.349->ibm-watsonx-ai==0.2.6) (2024.2)\n",
      "Requirement already satisfied: tzdata>=2022.1 in /home/jupyterlab/.local/lib/python3.12/site-packages (from pandas<2.2.0,>=0.24.2->ibm-watson-machine-learning>=1.0.349->ibm-watsonx-ai==0.2.6) (2025.2)\n",
      "Requirement already satisfied: charset_normalizer<4,>=2 in /opt/conda/lib/python3.12/site-packages (from requests->ibm-watson-machine-learning>=1.0.349->ibm-watsonx-ai==0.2.6) (3.4.1)\n",
      "Requirement already satisfied: idna<4,>=2.5 in /opt/conda/lib/python3.12/site-packages (from requests->ibm-watson-machine-learning>=1.0.349->ibm-watsonx-ai==0.2.6) (3.10)\n",
      "Requirement already satisfied: zipp>=3.20 in /opt/conda/lib/python3.12/site-packages (from importlib-metadata->ibm-watson-machine-learning>=1.0.349->ibm-watsonx-ai==0.2.6) (3.21.0)\n",
      "Requirement already satisfied: six>=1.10.0 in /opt/conda/lib/python3.12/site-packages (from lomond->ibm-watson-machine-learning>=1.0.349->ibm-watsonx-ai==0.2.6) (1.17.0)\n",
      "Collecting langchain==0.1.16\n",
      "  Using cached langchain-0.1.16-py3-none-any.whl.metadata (13 kB)\n",
      "Requirement already satisfied: PyYAML>=5.3 in /opt/conda/lib/python3.12/site-packages (from langchain==0.1.16) (6.0.2)\n",
      "Requirement already satisfied: SQLAlchemy<3,>=1.4 in /opt/conda/lib/python3.12/site-packages (from langchain==0.1.16) (2.0.37)\n",
      "Requirement already satisfied: aiohttp<4.0.0,>=3.8.3 in /opt/conda/lib/python3.12/site-packages (from langchain==0.1.16) (3.11.18)\n",
      "Collecting dataclasses-json<0.7,>=0.5.7 (from langchain==0.1.16)\n",
      "  Using cached dataclasses_json-0.6.7-py3-none-any.whl.metadata (25 kB)\n",
      "Requirement already satisfied: jsonpatch<2.0,>=1.33 in /opt/conda/lib/python3.12/site-packages (from langchain==0.1.16) (1.33)\n",
      "Collecting langchain-community<0.1,>=0.0.32 (from langchain==0.1.16)\n",
      "  Using cached langchain_community-0.0.38-py3-none-any.whl.metadata (8.7 kB)\n",
      "Collecting langchain-core<0.2.0,>=0.1.42 (from langchain==0.1.16)\n",
      "  Downloading langchain_core-0.1.53-py3-none-any.whl.metadata (5.9 kB)\n",
      "Collecting langchain-text-splitters<0.1,>=0.0.1 (from langchain==0.1.16)\n",
      "  Downloading langchain_text_splitters-0.0.2-py3-none-any.whl.metadata (2.2 kB)\n",
      "Collecting langsmith<0.2.0,>=0.1.17 (from langchain==0.1.16)\n",
      "  Downloading langsmith-0.1.147-py3-none-any.whl.metadata (14 kB)\n",
      "Requirement already satisfied: numpy<2,>=1 in /home/jupyterlab/.local/lib/python3.12/site-packages (from langchain==0.1.16) (1.26.4)\n",
      "Requirement already satisfied: pydantic<3,>=1 in /opt/conda/lib/python3.12/site-packages (from langchain==0.1.16) (2.10.6)\n",
      "Requirement already satisfied: requests<3,>=2 in /home/jupyterlab/.local/lib/python3.12/site-packages (from langchain==0.1.16) (2.32.5)\n",
      "Collecting tenacity<9.0.0,>=8.1.0 (from langchain==0.1.16)\n",
      "  Downloading tenacity-8.5.0-py3-none-any.whl.metadata (1.2 kB)\n",
      "Requirement already satisfied: aiohappyeyeballs>=2.3.0 in /opt/conda/lib/python3.12/site-packages (from aiohttp<4.0.0,>=3.8.3->langchain==0.1.16) (2.6.1)\n",
      "Requirement already satisfied: aiosignal>=1.1.2 in /opt/conda/lib/python3.12/site-packages (from aiohttp<4.0.0,>=3.8.3->langchain==0.1.16) (1.3.2)\n",
      "Requirement already satisfied: attrs>=17.3.0 in /opt/conda/lib/python3.12/site-packages (from aiohttp<4.0.0,>=3.8.3->langchain==0.1.16) (25.1.0)\n",
      "Requirement already satisfied: frozenlist>=1.1.1 in /opt/conda/lib/python3.12/site-packages (from aiohttp<4.0.0,>=3.8.3->langchain==0.1.16) (1.6.0)\n",
      "Requirement already satisfied: multidict<7.0,>=4.5 in /opt/conda/lib/python3.12/site-packages (from aiohttp<4.0.0,>=3.8.3->langchain==0.1.16) (6.4.3)\n",
      "Requirement already satisfied: propcache>=0.2.0 in /opt/conda/lib/python3.12/site-packages (from aiohttp<4.0.0,>=3.8.3->langchain==0.1.16) (0.3.1)\n",
      "Requirement already satisfied: yarl<2.0,>=1.17.0 in /opt/conda/lib/python3.12/site-packages (from aiohttp<4.0.0,>=3.8.3->langchain==0.1.16) (1.20.0)\n",
      "Collecting marshmallow<4.0.0,>=3.18.0 (from dataclasses-json<0.7,>=0.5.7->langchain==0.1.16)\n",
      "  Downloading marshmallow-3.26.1-py3-none-any.whl.metadata (7.3 kB)\n",
      "Collecting typing-inspect<1,>=0.4.0 (from dataclasses-json<0.7,>=0.5.7->langchain==0.1.16)\n",
      "  Downloading typing_inspect-0.9.0-py3-none-any.whl.metadata (1.5 kB)\n",
      "Requirement already satisfied: jsonpointer>=1.9 in /opt/conda/lib/python3.12/site-packages (from jsonpatch<2.0,>=1.33->langchain==0.1.16) (3.0.0)\n",
      "Collecting packaging<24.0,>=23.2 (from langchain-core<0.2.0,>=0.1.42->langchain==0.1.16)\n",
      "  Downloading packaging-23.2-py3-none-any.whl.metadata (3.2 kB)\n",
      "Requirement already satisfied: httpx<1,>=0.23.0 in /opt/conda/lib/python3.12/site-packages (from langsmith<0.2.0,>=0.1.17->langchain==0.1.16) (0.28.1)\n",
      "Collecting orjson<4.0.0,>=3.9.14 (from langsmith<0.2.0,>=0.1.17->langchain==0.1.16)\n",
      "  Downloading orjson-3.11.3-cp312-cp312-manylinux_2_17_x86_64.manylinux2014_x86_64.whl.metadata (41 kB)\n",
      "Collecting requests-toolbelt<2.0.0,>=1.0.0 (from langsmith<0.2.0,>=0.1.17->langchain==0.1.16)\n",
      "  Downloading requests_toolbelt-1.0.0-py2.py3-none-any.whl.metadata (14 kB)\n",
      "Requirement already satisfied: annotated-types>=0.6.0 in /opt/conda/lib/python3.12/site-packages (from pydantic<3,>=1->langchain==0.1.16) (0.7.0)\n",
      "Requirement already satisfied: pydantic-core==2.27.2 in /opt/conda/lib/python3.12/site-packages (from pydantic<3,>=1->langchain==0.1.16) (2.27.2)\n",
      "Requirement already satisfied: typing-extensions>=4.12.2 in /opt/conda/lib/python3.12/site-packages (from pydantic<3,>=1->langchain==0.1.16) (4.12.2)\n",
      "Requirement already satisfied: charset_normalizer<4,>=2 in /opt/conda/lib/python3.12/site-packages (from requests<3,>=2->langchain==0.1.16) (3.4.1)\n",
      "Requirement already satisfied: idna<4,>=2.5 in /opt/conda/lib/python3.12/site-packages (from requests<3,>=2->langchain==0.1.16) (3.10)\n",
      "Requirement already satisfied: urllib3<3,>=1.21.1 in /home/jupyterlab/.local/lib/python3.12/site-packages (from requests<3,>=2->langchain==0.1.16) (2.5.0)\n",
      "Requirement already satisfied: certifi>=2017.4.17 in /opt/conda/lib/python3.12/site-packages (from requests<3,>=2->langchain==0.1.16) (2024.12.14)\n",
      "Requirement already satisfied: greenlet!=0.4.17 in /opt/conda/lib/python3.12/site-packages (from SQLAlchemy<3,>=1.4->langchain==0.1.16) (3.1.1)\n",
      "Requirement already satisfied: anyio in /opt/conda/lib/python3.12/site-packages (from httpx<1,>=0.23.0->langsmith<0.2.0,>=0.1.17->langchain==0.1.16) (4.8.0)\n",
      "Requirement already satisfied: httpcore==1.* in /opt/conda/lib/python3.12/site-packages (from httpx<1,>=0.23.0->langsmith<0.2.0,>=0.1.17->langchain==0.1.16) (1.0.7)\n",
      "Requirement already satisfied: h11<0.15,>=0.13 in /opt/conda/lib/python3.12/site-packages (from httpcore==1.*->httpx<1,>=0.23.0->langsmith<0.2.0,>=0.1.17->langchain==0.1.16) (0.14.0)\n",
      "Collecting mypy-extensions>=0.3.0 (from typing-inspect<1,>=0.4.0->dataclasses-json<0.7,>=0.5.7->langchain==0.1.16)\n",
      "  Downloading mypy_extensions-1.1.0-py3-none-any.whl.metadata (1.1 kB)\n",
      "Requirement already satisfied: sniffio>=1.1 in /opt/conda/lib/python3.12/site-packages (from anyio->httpx<1,>=0.23.0->langsmith<0.2.0,>=0.1.17->langchain==0.1.16) (1.3.1)\n",
      "Downloading langchain-0.1.16-py3-none-any.whl (817 kB)\n",
      "\u001b[2K   \u001b[90m━━━━━━━━━━━━━━━━━━━━━━━━━━━━━━━━━━━━━━━━\u001b[0m \u001b[32m817.7/817.7 kB\u001b[0m \u001b[31m36.5 MB/s\u001b[0m eta \u001b[36m0:00:00\u001b[0m\n",
      "\u001b[?25hDownloading dataclasses_json-0.6.7-py3-none-any.whl (28 kB)\n",
      "Downloading langchain_community-0.0.38-py3-none-any.whl (2.0 MB)\n",
      "\u001b[2K   \u001b[90m━━━━━━━━━━━━━━━━━━━━━━━━━━━━━━━━━━━━━━━━\u001b[0m \u001b[32m2.0/2.0 MB\u001b[0m \u001b[31m79.0 MB/s\u001b[0m eta \u001b[36m0:00:00\u001b[0m\n",
      "\u001b[?25hDownloading langchain_core-0.1.53-py3-none-any.whl (303 kB)\n",
      "Downloading langchain_text_splitters-0.0.2-py3-none-any.whl (23 kB)\n",
      "Downloading langsmith-0.1.147-py3-none-any.whl (311 kB)\n",
      "Downloading tenacity-8.5.0-py3-none-any.whl (28 kB)\n",
      "Downloading marshmallow-3.26.1-py3-none-any.whl (50 kB)\n",
      "Downloading orjson-3.11.3-cp312-cp312-manylinux_2_17_x86_64.manylinux2014_x86_64.whl (132 kB)\n",
      "Downloading packaging-23.2-py3-none-any.whl (53 kB)\n",
      "Downloading requests_toolbelt-1.0.0-py2.py3-none-any.whl (54 kB)\n",
      "Downloading typing_inspect-0.9.0-py3-none-any.whl (8.8 kB)\n",
      "Downloading mypy_extensions-1.1.0-py3-none-any.whl (5.0 kB)\n",
      "Installing collected packages: tenacity, packaging, orjson, mypy-extensions, typing-inspect, requests-toolbelt, marshmallow, langsmith, dataclasses-json, langchain-core, langchain-text-splitters, langchain-community, langchain\n",
      "Successfully installed dataclasses-json-0.6.7 langchain-0.1.16 langchain-community-0.0.38 langchain-core-0.1.53 langchain-text-splitters-0.0.2 langsmith-0.1.147 marshmallow-3.26.1 mypy-extensions-1.1.0 orjson-3.11.3 packaging-23.2 requests-toolbelt-1.0.0 tenacity-8.5.0 typing-inspect-0.9.0\n",
      "Collecting langchain-ibm==0.1.4\n",
      "  Downloading langchain_ibm-0.1.4-py3-none-any.whl.metadata (5.2 kB)\n",
      "Requirement already satisfied: ibm-watsonx-ai<0.3.0,>=0.2.6 in /home/jupyterlab/.local/lib/python3.12/site-packages (from langchain-ibm==0.1.4) (0.2.6)\n",
      "Requirement already satisfied: langchain-core<0.2.0,>=0.1.42 in /home/jupyterlab/.local/lib/python3.12/site-packages (from langchain-ibm==0.1.4) (0.1.53)\n",
      "Requirement already satisfied: ibm-watson-machine-learning>=1.0.349 in /home/jupyterlab/.local/lib/python3.12/site-packages (from ibm-watsonx-ai<0.3.0,>=0.2.6->langchain-ibm==0.1.4) (1.0.368)\n",
      "Requirement already satisfied: PyYAML>=5.3 in /opt/conda/lib/python3.12/site-packages (from langchain-core<0.2.0,>=0.1.42->langchain-ibm==0.1.4) (6.0.2)\n",
      "Requirement already satisfied: jsonpatch<2.0,>=1.33 in /opt/conda/lib/python3.12/site-packages (from langchain-core<0.2.0,>=0.1.42->langchain-ibm==0.1.4) (1.33)\n",
      "Requirement already satisfied: langsmith<0.2.0,>=0.1.0 in /home/jupyterlab/.local/lib/python3.12/site-packages (from langchain-core<0.2.0,>=0.1.42->langchain-ibm==0.1.4) (0.1.147)\n",
      "Requirement already satisfied: packaging<24.0,>=23.2 in /home/jupyterlab/.local/lib/python3.12/site-packages (from langchain-core<0.2.0,>=0.1.42->langchain-ibm==0.1.4) (23.2)\n",
      "Requirement already satisfied: pydantic<3,>=1 in /opt/conda/lib/python3.12/site-packages (from langchain-core<0.2.0,>=0.1.42->langchain-ibm==0.1.4) (2.10.6)\n",
      "Requirement already satisfied: tenacity<9.0.0,>=8.1.0 in /home/jupyterlab/.local/lib/python3.12/site-packages (from langchain-core<0.2.0,>=0.1.42->langchain-ibm==0.1.4) (8.5.0)\n",
      "Requirement already satisfied: requests in /home/jupyterlab/.local/lib/python3.12/site-packages (from ibm-watson-machine-learning>=1.0.349->ibm-watsonx-ai<0.3.0,>=0.2.6->langchain-ibm==0.1.4) (2.32.5)\n",
      "Requirement already satisfied: urllib3 in /home/jupyterlab/.local/lib/python3.12/site-packages (from ibm-watson-machine-learning>=1.0.349->ibm-watsonx-ai<0.3.0,>=0.2.6->langchain-ibm==0.1.4) (2.5.0)\n",
      "Requirement already satisfied: pandas<2.2.0,>=0.24.2 in /home/jupyterlab/.local/lib/python3.12/site-packages (from ibm-watson-machine-learning>=1.0.349->ibm-watsonx-ai<0.3.0,>=0.2.6->langchain-ibm==0.1.4) (2.1.4)\n",
      "Requirement already satisfied: certifi in /opt/conda/lib/python3.12/site-packages (from ibm-watson-machine-learning>=1.0.349->ibm-watsonx-ai<0.3.0,>=0.2.6->langchain-ibm==0.1.4) (2024.12.14)\n",
      "Requirement already satisfied: lomond in /home/jupyterlab/.local/lib/python3.12/site-packages (from ibm-watson-machine-learning>=1.0.349->ibm-watsonx-ai<0.3.0,>=0.2.6->langchain-ibm==0.1.4) (0.3.3)\n",
      "Requirement already satisfied: tabulate in /home/jupyterlab/.local/lib/python3.12/site-packages (from ibm-watson-machine-learning>=1.0.349->ibm-watsonx-ai<0.3.0,>=0.2.6->langchain-ibm==0.1.4) (0.9.0)\n",
      "Requirement already satisfied: ibm-cos-sdk<2.15.0,>=2.12.0 in /home/jupyterlab/.local/lib/python3.12/site-packages (from ibm-watson-machine-learning>=1.0.349->ibm-watsonx-ai<0.3.0,>=0.2.6->langchain-ibm==0.1.4) (2.14.3)\n",
      "Requirement already satisfied: importlib-metadata in /opt/conda/lib/python3.12/site-packages (from ibm-watson-machine-learning>=1.0.349->ibm-watsonx-ai<0.3.0,>=0.2.6->langchain-ibm==0.1.4) (8.6.1)\n",
      "Requirement already satisfied: jsonpointer>=1.9 in /opt/conda/lib/python3.12/site-packages (from jsonpatch<2.0,>=1.33->langchain-core<0.2.0,>=0.1.42->langchain-ibm==0.1.4) (3.0.0)\n",
      "Requirement already satisfied: httpx<1,>=0.23.0 in /opt/conda/lib/python3.12/site-packages (from langsmith<0.2.0,>=0.1.0->langchain-core<0.2.0,>=0.1.42->langchain-ibm==0.1.4) (0.28.1)\n",
      "Requirement already satisfied: orjson<4.0.0,>=3.9.14 in /home/jupyterlab/.local/lib/python3.12/site-packages (from langsmith<0.2.0,>=0.1.0->langchain-core<0.2.0,>=0.1.42->langchain-ibm==0.1.4) (3.11.3)\n",
      "Requirement already satisfied: requests-toolbelt<2.0.0,>=1.0.0 in /home/jupyterlab/.local/lib/python3.12/site-packages (from langsmith<0.2.0,>=0.1.0->langchain-core<0.2.0,>=0.1.42->langchain-ibm==0.1.4) (1.0.0)\n",
      "Requirement already satisfied: annotated-types>=0.6.0 in /opt/conda/lib/python3.12/site-packages (from pydantic<3,>=1->langchain-core<0.2.0,>=0.1.42->langchain-ibm==0.1.4) (0.7.0)\n",
      "Requirement already satisfied: pydantic-core==2.27.2 in /opt/conda/lib/python3.12/site-packages (from pydantic<3,>=1->langchain-core<0.2.0,>=0.1.42->langchain-ibm==0.1.4) (2.27.2)\n",
      "Requirement already satisfied: typing-extensions>=4.12.2 in /opt/conda/lib/python3.12/site-packages (from pydantic<3,>=1->langchain-core<0.2.0,>=0.1.42->langchain-ibm==0.1.4) (4.12.2)\n",
      "Requirement already satisfied: anyio in /opt/conda/lib/python3.12/site-packages (from httpx<1,>=0.23.0->langsmith<0.2.0,>=0.1.0->langchain-core<0.2.0,>=0.1.42->langchain-ibm==0.1.4) (4.8.0)\n",
      "Requirement already satisfied: httpcore==1.* in /opt/conda/lib/python3.12/site-packages (from httpx<1,>=0.23.0->langsmith<0.2.0,>=0.1.0->langchain-core<0.2.0,>=0.1.42->langchain-ibm==0.1.4) (1.0.7)\n",
      "Requirement already satisfied: idna in /opt/conda/lib/python3.12/site-packages (from httpx<1,>=0.23.0->langsmith<0.2.0,>=0.1.0->langchain-core<0.2.0,>=0.1.42->langchain-ibm==0.1.4) (3.10)\n",
      "Requirement already satisfied: h11<0.15,>=0.13 in /opt/conda/lib/python3.12/site-packages (from httpcore==1.*->httpx<1,>=0.23.0->langsmith<0.2.0,>=0.1.0->langchain-core<0.2.0,>=0.1.42->langchain-ibm==0.1.4) (0.14.0)\n",
      "Requirement already satisfied: ibm-cos-sdk-core==2.14.3 in /home/jupyterlab/.local/lib/python3.12/site-packages (from ibm-cos-sdk<2.15.0,>=2.12.0->ibm-watson-machine-learning>=1.0.349->ibm-watsonx-ai<0.3.0,>=0.2.6->langchain-ibm==0.1.4) (2.14.3)\n",
      "Requirement already satisfied: ibm-cos-sdk-s3transfer==2.14.3 in /home/jupyterlab/.local/lib/python3.12/site-packages (from ibm-cos-sdk<2.15.0,>=2.12.0->ibm-watson-machine-learning>=1.0.349->ibm-watsonx-ai<0.3.0,>=0.2.6->langchain-ibm==0.1.4) (2.14.3)\n",
      "Requirement already satisfied: jmespath<=1.0.1,>=0.10.0 in /home/jupyterlab/.local/lib/python3.12/site-packages (from ibm-cos-sdk<2.15.0,>=2.12.0->ibm-watson-machine-learning>=1.0.349->ibm-watsonx-ai<0.3.0,>=0.2.6->langchain-ibm==0.1.4) (1.0.1)\n",
      "Requirement already satisfied: python-dateutil<3.0.0,>=2.9.0 in /opt/conda/lib/python3.12/site-packages (from ibm-cos-sdk-core==2.14.3->ibm-cos-sdk<2.15.0,>=2.12.0->ibm-watson-machine-learning>=1.0.349->ibm-watsonx-ai<0.3.0,>=0.2.6->langchain-ibm==0.1.4) (2.9.0.post0)\n",
      "Requirement already satisfied: numpy<2,>=1.26.0 in /home/jupyterlab/.local/lib/python3.12/site-packages (from pandas<2.2.0,>=0.24.2->ibm-watson-machine-learning>=1.0.349->ibm-watsonx-ai<0.3.0,>=0.2.6->langchain-ibm==0.1.4) (1.26.4)\n",
      "Requirement already satisfied: pytz>=2020.1 in /opt/conda/lib/python3.12/site-packages (from pandas<2.2.0,>=0.24.2->ibm-watson-machine-learning>=1.0.349->ibm-watsonx-ai<0.3.0,>=0.2.6->langchain-ibm==0.1.4) (2024.2)\n",
      "Requirement already satisfied: tzdata>=2022.1 in /home/jupyterlab/.local/lib/python3.12/site-packages (from pandas<2.2.0,>=0.24.2->ibm-watson-machine-learning>=1.0.349->ibm-watsonx-ai<0.3.0,>=0.2.6->langchain-ibm==0.1.4) (2025.2)\n",
      "Requirement already satisfied: charset_normalizer<4,>=2 in /opt/conda/lib/python3.12/site-packages (from requests->ibm-watson-machine-learning>=1.0.349->ibm-watsonx-ai<0.3.0,>=0.2.6->langchain-ibm==0.1.4) (3.4.1)\n",
      "Requirement already satisfied: zipp>=3.20 in /opt/conda/lib/python3.12/site-packages (from importlib-metadata->ibm-watson-machine-learning>=1.0.349->ibm-watsonx-ai<0.3.0,>=0.2.6->langchain-ibm==0.1.4) (3.21.0)\n",
      "Requirement already satisfied: six>=1.10.0 in /opt/conda/lib/python3.12/site-packages (from lomond->ibm-watson-machine-learning>=1.0.349->ibm-watsonx-ai<0.3.0,>=0.2.6->langchain-ibm==0.1.4) (1.17.0)\n",
      "Requirement already satisfied: sniffio>=1.1 in /opt/conda/lib/python3.12/site-packages (from anyio->httpx<1,>=0.23.0->langsmith<0.2.0,>=0.1.0->langchain-core<0.2.0,>=0.1.42->langchain-ibm==0.1.4) (1.3.1)\n",
      "Downloading langchain_ibm-0.1.4-py3-none-any.whl (9.8 kB)\n",
      "Installing collected packages: langchain-ibm\n",
      "Successfully installed langchain-ibm-0.1.4\n"
     ]
    }
   ],
   "source": [
    "#%%capture\n",
    "!pip install --user \"ibm-watsonx-ai==0.2.6\"\n",
    "!pip install --user \"langchain==0.1.16\" \n",
    "!pip install --user \"langchain-ibm==0.1.4\""
   ]
  },
  {
   "cell_type": "markdown",
   "metadata": {},
   "source": [
    "### Importing required libraries\n",
    "\n",
    "_It is recommended that you import all required libraries in one place (here):_\n"
   ]
  },
  {
   "cell_type": "code",
   "execution_count": 1,
   "metadata": {},
   "outputs": [],
   "source": [
    "# You can also use this section to suppress warnings generated by your code:\n",
    "def warn(*args, **kwargs):\n",
    "    pass\n",
    "import warnings\n",
    "warnings.warn = warn\n",
    "warnings.filterwarnings('ignore')\n",
    "\n",
    "from ibm_watsonx_ai.foundation_models import Model\n",
    "from ibm_watsonx_ai.metanames import GenTextParamsMetaNames as GenParams\n",
    "from ibm_watsonx_ai.foundation_models.utils.enums import ModelTypes\n",
    "from ibm_watson_machine_learning.foundation_models.extensions.langchain import WatsonxLLM\n",
    "from langchain_core.prompts import PromptTemplate\n",
    "from langchain.chains import LLMChain"
   ]
  },
  {
   "cell_type": "markdown",
   "metadata": {},
   "source": [
    "### Setup LLM\n"
   ]
  },
  {
   "cell_type": "markdown",
   "metadata": {},
   "source": [
    "In this section, you will build an LLM model from IBM watsonx.ai. \n",
    "\n",
    "The following code initializes a IBM Granite model on IBM's watsonx.ai platform and wraps it into a function that could allow repeat use.\n"
   ]
  },
  {
   "cell_type": "markdown",
   "metadata": {},
   "source": [
    "Some key parameters are explained here:\n",
    "- `model_id` specifies which model you want to use. There are various model options available; refer to the [Foundation Models](https://ibm.github.io/watsonx-ai-python-sdk/foundation_models.html) documentation for more options. In this tutorial, you'll use the `ibm/granite-3-2-8b-instruct` model.\n",
    "- `parameters` define the model's configuration. Set five commonly used parameters for this tutorial. To explore additional commonly used parameters, you can run the code `GenParams().get_example_values()` to see. If no custom parameters are passed to the function, the model will use `default_params`.\n",
    "- `credentials` and `project_id` are necessary parameters to successfully run LLMs from watsonx.ai. (Keep `credentials` and `project_id` as they are now so that you do not need to create your own keys to run models. This supports you in running the model inside this lab environment. However, if you want to run the model locally, refer to this [tutorial](https://medium.com/the-power-of-ai/ibm-watsonx-ai-the-interface-and-api-e8e1c7227358) for creating your own keys.\n",
    "- `Model()` is used to wrap the parameters for the model and then call it with `WatsonxLLM()`.\n"
   ]
  },
  {
   "cell_type": "markdown",
   "metadata": {},
   "source": [
    "Run the following code, you will initialize a LLM model.\n"
   ]
  },
  {
   "cell_type": "code",
   "execution_count": 2,
   "metadata": {},
   "outputs": [],
   "source": [
    "def llm_model(prompt_txt, params=None):\n",
    "    model_id = 'ibm/granite-3-2-8b-instruct'\n",
    "\n",
    "    default_params = {\n",
    "        \"max_new_tokens\": 256,\n",
    "        \"min_new_tokens\": 0,\n",
    "        \"temperature\": 0.5,\n",
    "        \"top_p\": 0.2,\n",
    "        \"top_k\": 1\n",
    "    }\n",
    "\n",
    "    if params:\n",
    "        default_params.update(params)\n",
    "\n",
    "    parameters = {\n",
    "        GenParams.MAX_NEW_TOKENS: default_params[\"max_new_tokens\"],  # this controls the maximum number of tokens in the generated output\n",
    "        GenParams.MIN_NEW_TOKENS: default_params[\"min_new_tokens\"], # this controls the minimum number of tokens in the generated output\n",
    "        GenParams.TEMPERATURE: default_params[\"temperature\"], # this randomness or creativity of the model's responses\n",
    "        GenParams.TOP_P: default_params[\"top_p\"],\n",
    "        GenParams.TOP_K: default_params[\"top_k\"]\n",
    "    }\n",
    "    \n",
    "    credentials = {\n",
    "        \"url\": \"https://us-south.ml.cloud.ibm.com\"\n",
    "    }\n",
    "    \n",
    "    project_id = \"skills-network\"\n",
    "    \n",
    "    model = Model(\n",
    "        model_id=model_id,\n",
    "        params=parameters,\n",
    "        credentials=credentials,\n",
    "        project_id=project_id\n",
    "    )\n",
    "    \n",
    "    mixtral_llm = WatsonxLLM(model=model)\n",
    "    response  = mixtral_llm.invoke(prompt_txt)\n",
    "    return response"
   ]
  },
  {
   "cell_type": "markdown",
   "metadata": {},
   "source": [
    "Let's run the following code to see some other commonly used parameters and their default value.\n"
   ]
  },
  {
   "cell_type": "code",
   "execution_count": 3,
   "metadata": {},
   "outputs": [
    {
     "data": {
      "text/plain": [
       "{'decoding_method': 'sample',\n",
       " 'length_penalty': {'decay_factor': 2.5, 'start_index': 5},\n",
       " 'temperature': 0.5,\n",
       " 'top_p': 0.2,\n",
       " 'top_k': 1,\n",
       " 'random_seed': 33,\n",
       " 'repetition_penalty': 2,\n",
       " 'min_new_tokens': 50,\n",
       " 'max_new_tokens': 200,\n",
       " 'stop_sequences': ['fail'],\n",
       " ' time_limit': 600000,\n",
       " 'truncate_input_tokens': 200,\n",
       " 'return_options': {'input_text': True,\n",
       "  'generated_tokens': True,\n",
       "  'input_tokens': True,\n",
       "  'token_logprobs': True,\n",
       "  'token_ranks': False,\n",
       "  'top_n_tokens': False}}"
      ]
     },
     "execution_count": 3,
     "metadata": {},
     "output_type": "execute_result"
    }
   ],
   "source": [
    "GenParams().get_example_values()"
   ]
  },
  {
   "cell_type": "markdown",
   "metadata": {},
   "source": [
    "## Prompt engineering\n"
   ]
  },
  {
   "cell_type": "markdown",
   "metadata": {},
   "source": [
    "### First basic prompt\n"
   ]
  },
  {
   "cell_type": "markdown",
   "metadata": {},
   "source": [
    "In this example, let's introduce a basic prompt that utilizes specific parameters to guide the language model's response. You'll then define a simple prompt and retrieve the model's response,\n",
    "\n",
    "The prompt used is \"The wind is\". Let the model generate itself.\n"
   ]
  },
  {
   "cell_type": "code",
   "execution_count": 4,
   "metadata": {},
   "outputs": [
    {
     "name": "stdout",
     "output_type": "stream",
     "text": [
      "prompt: The wind is\n",
      "\n",
      "response :  blowing,\n",
      "The wind is blowing,\n",
      "The wind is blowing,\n",
      "The wind is blowing,\n",
      "The wind is blowing,\n",
      "The wind is blowing,\n",
      "The wind is blowing,\n",
      "The wind is blowing,\n",
      "The wind is blowing,\n",
      "The wind is blowing,\n",
      "The wind is blowing,\n",
      "The wind is blowing,\n",
      "The wind is blowing,\n",
      "The wind is blowing,\n",
      "The wind is blowing,\n",
      "The wind is blowing,\n",
      "The wind is blowing,\n",
      "The wind is blowing,\n",
      "The wind is blowing\n",
      "\n"
     ]
    }
   ],
   "source": [
    "params = {\n",
    "    \"max_new_tokens\": 128,\n",
    "    \"min_new_tokens\": 10,\n",
    "    \"temperature\": 0.5,\n",
    "    \"top_p\": 0.2,\n",
    "    \"top_k\": 1\n",
    "}\n",
    "\n",
    "prompt = \"The wind is\"\n",
    "\n",
    "response = llm_model(prompt, params)\n",
    "print(f\"prompt: {prompt}\\n\")\n",
    "print(f\"response : {response}\\n\")"
   ]
  },
  {
   "cell_type": "markdown",
   "metadata": {},
   "source": [
    "As you can see from the response, the model continues generating content following the initial prompt, \"The wind is\". You might notice that the response appears truncated or incomplete. This is because you have set the `max_new_tokens,` which restricts the number of tokens the model can generate.\n",
    "\n",
    "Try to adjust the parameters and observe the difference in the response.\n"
   ]
  },
  {
   "cell_type": "markdown",
   "metadata": {},
   "source": [
    "### Zero-shot prompt\n"
   ]
  },
  {
   "cell_type": "markdown",
   "metadata": {},
   "source": [
    "Here is an example of a zero-shot prompt. \n",
    "\n",
    "Zero-shot learning is crucial for testing a model's ability to apply its pre-trained knowledge to new, unseen tasks without additional training. This capability is valuable for gauging the model's generalization skills.\n",
    "\n",
    "In this example, let's demonstrate a zero-shot learning scenario using a prompt that asks the model to classify a statement without any prior specific training on similar tasks. The prompt requests the model to assess the truthfulness of the statement: \"The Eiffel Tower is located in Berlin.\". After defining the prompt, you'll execute it with default parameters and print the response.\n",
    "\n",
    "This approach helps you understand how well the model can handle direct questions based on its underlying knowledge and reasoning abilities.\n"
   ]
  },
  {
   "cell_type": "markdown",
   "metadata": {},
   "source": [
    "Try running the prompt to see the model's capacity to correctly analyze and respond to factual inaccuracies.\n"
   ]
  },
  {
   "cell_type": "code",
   "execution_count": 5,
   "metadata": {},
   "outputs": [
    {
     "name": "stdout",
     "output_type": "stream",
     "text": [
      "prompt: Classify the following statement as true or false: \n",
      "            'The Eiffel Tower is located in Berlin.'\n",
      "\n",
      "            Answer:\n",
      "\n",
      "\n",
      "response : \n",
      "False. The Eiffel Tower is located in Paris, France.\n",
      "\n"
     ]
    }
   ],
   "source": [
    "prompt = \"\"\"Classify the following statement as true or false: \n",
    "            'The Eiffel Tower is located in Berlin.'\n",
    "\n",
    "            Answer:\n",
    "\"\"\"\n",
    "response = llm_model(prompt, params)\n",
    "print(f\"prompt: {prompt}\\n\")\n",
    "print(f\"response : {response}\\n\")"
   ]
  },
  {
   "cell_type": "markdown",
   "metadata": {},
   "source": [
    "The model responds with the 'False' answer, which is correct. It also gives the reason for it.\n"
   ]
  },
  {
   "cell_type": "markdown",
   "metadata": {},
   "source": [
    "### One-shot prompt\n"
   ]
  },
  {
   "cell_type": "markdown",
   "metadata": {},
   "source": [
    "Here is a one-shot learning example where the model is given a single example to help guide its translation from English to French.\n",
    "\n",
    "The prompt provides a sample translation pairing, \"How is the weather today?\" translated to \"Comment est le temps aujourd'hui?\" This example serves as a guide for the model to understand the task context and desired format. The model is then tasked with translating a new sentence, \"Where is the nearest supermarket?\" without further guidance.\n"
   ]
  },
  {
   "cell_type": "code",
   "execution_count": 6,
   "metadata": {},
   "outputs": [
    {
     "name": "stdout",
     "output_type": "stream",
     "text": [
      "prompt: Here is an example of translating a sentence from English to French:\n",
      "\n",
      "            English: “How is the weather today?”\n",
      "            French: “Comment est le temps aujourd'hui?”\n",
      "            \n",
      "            Now, translate the following sentence from English to French:\n",
      "            \n",
      "            English: “Where is the nearest supermarket?”\n",
      "            \n",
      "\n",
      "\n",
      "response : French: “Où est le supermarché le plus proche?”\n",
      "\n",
      "\n",
      "\n"
     ]
    }
   ],
   "source": [
    "params = {\n",
    "    \"max_new_tokens\": 20,\n",
    "    \"temperature\": 0.1,\n",
    "}\n",
    "\n",
    "prompt = \"\"\"Here is an example of translating a sentence from English to French:\n",
    "\n",
    "            English: “How is the weather today?”\n",
    "            French: “Comment est le temps aujourd'hui?”\n",
    "            \n",
    "            Now, translate the following sentence from English to French:\n",
    "            \n",
    "            English: “Where is the nearest supermarket?”\n",
    "            \n",
    "\"\"\"\n",
    "response = llm_model(prompt, params)\n",
    "print(f\"prompt: {prompt}\\n\")\n",
    "print(f\"response : {response}\\n\")"
   ]
  },
  {
   "cell_type": "markdown",
   "metadata": {},
   "source": [
    "The model's response shows how it applies the structure and context provided by the initial example to translate the new sentence.\n"
   ]
  },
  {
   "cell_type": "markdown",
   "metadata": {},
   "source": [
    "Consider experimenting with different sentences or adjusting the parameters to see how these changes impact the model's translations.\n"
   ]
  },
  {
   "cell_type": "markdown",
   "metadata": {},
   "source": [
    "### Few-shot prompt\n"
   ]
  },
  {
   "cell_type": "markdown",
   "metadata": {},
   "source": [
    "Here is an example of few-shot learning by classifying emotions from text statements. \n",
    "\n",
    "Let's provide the model with three examples, each labeled with an appropriate emotion—joy, frustration, and sadness—to establish a pattern or guideline on how to categorize emotions in statements.\n",
    "\n",
    "After presenting these examples, let's challenge the model with a new statement: \"That movie was so scary I had to cover my eyes.\" The task for the model is to classify the emotion expressed in this new statement based on the learning from the provided examples. \n"
   ]
  },
  {
   "cell_type": "code",
   "execution_count": 7,
   "metadata": {},
   "outputs": [
    {
     "name": "stdout",
     "output_type": "stream",
     "text": [
      "prompt: Here are few examples of classifying emotions in statements:\n",
      "\n",
      "           Statement: 'I just won my first marathon!'\n",
      "           Emotion: Joy\n",
      "           \n",
      "           Statement: 'I can't believe I lost my keys again.'\n",
      "           Emotion: Frustration\n",
      "           \n",
      "           Statement: 'My best friend is moving to another country.'\n",
      "           Emotion: Sadness\n",
      "           \n",
      "           Now, classify the emotion in the following statement:\n",
      "           Statement: 'That movie was so scary I had to cover my eyes.’\n",
      "           \n",
      "\n",
      "\n",
      "\n",
      "response :  Emotion: Fear\n",
      "\n"
     ]
    }
   ],
   "source": [
    " #parameters  `max_new_tokens` to 10, which constrains the model to generate brief responses\n",
    "\n",
    "params = {\n",
    "    \"max_new_tokens\": 10,\n",
    "}\n",
    "\n",
    "prompt = \"\"\"Here are few examples of classifying emotions in statements:\n",
    "\n",
    "            Statement: 'I just won my first marathon!'\n",
    "            Emotion: Joy\n",
    "            \n",
    "            Statement: 'I can't believe I lost my keys again.'\n",
    "            Emotion: Frustration\n",
    "            \n",
    "            Statement: 'My best friend is moving to another country.'\n",
    "            Emotion: Sadness\n",
    "            \n",
    "            Now, classify the emotion in the following statement:\n",
    "            Statement: 'That movie was so scary I had to cover my eyes.’\n",
    "            \n",
    "\n",
    "\"\"\"\n",
    "response = llm_model(prompt, params)\n",
    "print(f\"prompt: {prompt}\\n\")\n",
    "print(f\"response : {response}\\n\")"
   ]
  },
  {
   "cell_type": "markdown",
   "metadata": {},
   "source": [
    "The parameters are set with `max_new_tokens` to 10, which constrains the model to generate brief responses, focusing on the essential output without elaboration.\n"
   ]
  },
  {
   "cell_type": "markdown",
   "metadata": {},
   "source": [
    "The model's response demonstrates its ability to use the provided few examples to understand and classify the emotion of the new statement effectively following the same pattern in examples.\n"
   ]
  },
  {
   "cell_type": "markdown",
   "metadata": {},
   "source": [
    "### Chain-of-thought (CoT) prompting\n"
   ]
  },
  {
   "cell_type": "markdown",
   "metadata": {},
   "source": [
    "Here is an example of the Chain-of-Thought (CoT) prompting technique, designed to guide the model through a sequence of reasoning steps to solve a problem. In this example, the problem is a simple arithmetic question: “A store had 22 apples. They sold 15 apples today and received a new delivery of 8 apples. How many apples are there now?”\n",
    "\n",
    "The CoT technique involves structuring the prompt by instructing the model to “Break down each step of your calculation.” This encourages the model to include explicit reasoning steps, mimicking human-like problem-solving processes.\n"
   ]
  },
  {
   "cell_type": "code",
   "execution_count": 8,
   "metadata": {},
   "outputs": [
    {
     "name": "stdout",
     "output_type": "stream",
     "text": [
      "prompt: Consider the problem: 'A store had 22 apples. They sold 15 apples today and got a new delivery of 8 apples. \n",
      "            How many apples are there now?’\n",
      "\n",
      "            Break down each step of your calculation\n",
      "\n",
      "\n",
      "\n",
      "response : \n",
      "1. Start with the initial number of apples: 22 apples.\n",
      "2. Subtract the number of apples sold today: 22 - 15 = 7 apples remaining.\n",
      "3. Add the new delivery of apples: 7 + 8 = 15 apples now.\n",
      "\n",
      "So, there are 15 apples in the store now.\n",
      "\n"
     ]
    }
   ],
   "source": [
    "params = {\n",
    "    \"max_new_tokens\": 512,\n",
    "    \"temperature\": 0.5,\n",
    "}\n",
    "\n",
    "prompt = \"\"\"Consider the problem: 'A store had 22 apples. They sold 15 apples today and got a new delivery of 8 apples. \n",
    "            How many apples are there now?’\n",
    "\n",
    "            Break down each step of your calculation\n",
    "\n",
    "\"\"\"\n",
    "response = llm_model(prompt, params)\n",
    "print(f\"prompt: {prompt}\\n\")\n",
    "print(f\"response : {response}\\n\")"
   ]
  },
  {
   "cell_type": "markdown",
   "metadata": {},
   "source": [
    "From the response of the model, you can see the prompt directs the model to:\n",
    "\n",
    "1. Add the initial number of apples to the apples received in the new delivery.\n",
    "2. Subtract the number of apples sold from the sum obtained in the first step.\n"
   ]
  },
  {
   "cell_type": "markdown",
   "metadata": {},
   "source": [
    "By breaking down the problem into specific steps, the model is better able to understand the sequence of operations required to arrive at the correct answer.\n"
   ]
  },
  {
   "cell_type": "markdown",
   "metadata": {},
   "source": [
    "### Self-consistency\n"
   ]
  },
  {
   "cell_type": "markdown",
   "metadata": {},
   "source": [
    "This example demonstrates the self-consistency technique in reasoning through multiple calculations for a single problem. The problem posed is: “When I was 6, my sister was half my age. Now I am 70, what age is my sister?”\n",
    "\n",
    "The prompt instructs, “Provide three independent calculations and explanations, then determine the most consistent result.” This encourages the model to engage in critical thinking and consistency checking, which are vital for complex decision-making processes.\n"
   ]
  },
  {
   "cell_type": "code",
   "execution_count": 9,
   "metadata": {},
   "outputs": [
    {
     "name": "stdout",
     "output_type": "stream",
     "text": [
      "prompt: When I was 6, my sister was half of my age. Now I am 70, what age is my sister?\n",
      "\n",
      "            Provide three independent calculations and explanations, then determine the most consistent result.\n",
      "\n",
      "\n",
      "\n",
      "response :  Calculation 1:\n",
      "When I was 6, my sister was half my age, so she was 6 / 2 = 3 years old.\n",
      "Now, 70 - 3 = 67 years old.\n",
      "\n",
      "Calculation 2:\n",
      "If my sister was 3 when I was 6, then she is 6 - 3 = 3 years younger than me.\n",
      "Now, 70 - 3 = 67 years old.\n",
      "\n",
      "Calculation 3:\n",
      "My sister was 3 when I was 6, so she is 3 years younger than me.\n",
      "Now, 70 - 3 = 67 years old.\n",
      "\n",
      "All three calculations show that my sister is 67 years old now. This is the most consistent result, as it is derived from the same initial information and applies the same logic in each calculation.\n",
      "\n",
      "Final answer: My sister is 67 years old.\n",
      "\n"
     ]
    }
   ],
   "source": [
    "params = {\n",
    "    \"max_new_tokens\": 512,\n",
    "}\n",
    "\n",
    "prompt = \"\"\"When I was 6, my sister was half of my age. Now I am 70, what age is my sister?\n",
    "\n",
    "            Provide three independent calculations and explanations, then determine the most consistent result.\n",
    "\n",
    "\"\"\"\n",
    "response = llm_model(prompt, params)\n",
    "print(f\"prompt: {prompt}\\n\")\n",
    "print(f\"response : {response}\\n\")"
   ]
  },
  {
   "cell_type": "markdown",
   "metadata": {},
   "source": [
    "The model's response shows that it provides three different calculations and explanations. Each calculation attempts to derive the sister's age using different logical approaches.\n",
    "\n",
    "Self-consistency can help identify the most accurate and reliable answer in scenarios where multiple plausible solutions exist.\n"
   ]
  },
  {
   "cell_type": "markdown",
   "metadata": {},
   "source": [
    "## Applications\n"
   ]
  },
  {
   "cell_type": "markdown",
   "metadata": {},
   "source": [
    "In this section, you will show you how to use the prompt template from Langchain to create more structured and reproducible prompts. You will also learn to create some applications based on the prompt template.\n"
   ]
  },
  {
   "cell_type": "markdown",
   "metadata": {},
   "source": [
    "### Prompt template\n"
   ]
  },
  {
   "cell_type": "markdown",
   "metadata": {},
   "source": [
    "[Prompt template](https://python.langchain.com/v0.2/docs/concepts/#prompt-templates) is a key concept in langchain, it helps to translate user input and parameters into instructions for a language model. This can be used to guide a model's response, helping it understand the context and generate relevant and coherent language-based output.\n"
   ]
  },
  {
   "cell_type": "markdown",
   "metadata": {},
   "source": [
    "To use the prompt template, you need to initialize a LLM first.\n",
    "\n",
    "You can still use the `ibm/granite-3-2-8b-instruct` from watsonx.ai.\n"
   ]
  },
  {
   "cell_type": "code",
   "execution_count": 10,
   "metadata": {},
   "outputs": [
    {
     "data": {
      "text/plain": [
       "WatsonxLLM(model=<ibm_watsonx_ai.foundation_models.model.Model object at 0x7e6ec46ff4d0>)"
      ]
     },
     "execution_count": 10,
     "metadata": {},
     "output_type": "execute_result"
    }
   ],
   "source": [
    "model_id = 'ibm/granite-3-2-8b-instruct'\n",
    "\n",
    "parameters = {\n",
    "    GenParams.MAX_NEW_TOKENS: 256,  # this controls the maximum number of tokens in the generated output\n",
    "    GenParams.TEMPERATURE: 0.5, # this randomness or creativity of the model's responses\n",
    "}\n",
    "\n",
    "credentials = {\n",
    "    \"url\": \"https://us-south.ml.cloud.ibm.com\"\n",
    "}\n",
    "\n",
    "project_id = \"skills-network\"\n",
    "\n",
    "model = Model(\n",
    "    model_id=model_id,\n",
    "    params=parameters,\n",
    "    credentials=credentials,\n",
    "    project_id=project_id\n",
    ")\n",
    "\n",
    "mixtral_llm = WatsonxLLM(model=model)\n",
    "mixtral_llm"
   ]
  },
  {
   "cell_type": "markdown",
   "metadata": {},
   "source": [
    "Use the `PromptTemplate` to create a template for a string-based prompt. In this template, you'll define two parameters: `adjective` and `content`. These parameters allow for the reuse of the prompt across different situations. For instance, to adapt the prompt to various contexts, simply pass the relevant values to these parameters.\n"
   ]
  },
  {
   "cell_type": "code",
   "execution_count": 11,
   "metadata": {},
   "outputs": [
    {
     "data": {
      "text/plain": [
       "PromptTemplate(input_variables=['adjective', 'content'], template='Tell me a {adjective} joke about {content}.\\n')"
      ]
     },
     "execution_count": 11,
     "metadata": {},
     "output_type": "execute_result"
    }
   ],
   "source": [
    "template = \"\"\"Tell me a {adjective} joke about {content}.\n",
    "\"\"\"\n",
    "prompt = PromptTemplate.from_template(template)\n",
    "prompt "
   ]
  },
  {
   "cell_type": "markdown",
   "metadata": {},
   "source": [
    "Now, let's take a look at how the prompt has been formatted.\n"
   ]
  },
  {
   "cell_type": "code",
   "execution_count": 12,
   "metadata": {},
   "outputs": [
    {
     "data": {
      "text/plain": [
       "'Tell me a funny joke about chickens.\\n'"
      ]
     },
     "execution_count": 12,
     "metadata": {},
     "output_type": "execute_result"
    }
   ],
   "source": [
    "prompt.format(adjective=\"funny\", content=\"chickens\")"
   ]
  },
  {
   "cell_type": "markdown",
   "metadata": {},
   "source": [
    "From the response, you can see that the prompt is formatted according to the specified context.\n"
   ]
  },
  {
   "cell_type": "markdown",
   "metadata": {},
   "source": [
    "The following code will wrap the formatted prompt into the LLMChain, and then invoke the prompt to get the response from the LLM.\n"
   ]
  },
  {
   "cell_type": "code",
   "execution_count": 13,
   "metadata": {},
   "outputs": [
    {
     "name": "stdout",
     "output_type": "stream",
     "text": [
      "\n",
      "Sure, here's a chicken joke for you: Why don't chickens ever play hide and seek? Because good luck hiding when you leave a trail of feathers wherever you go!\n"
     ]
    }
   ],
   "source": [
    "llm_chain = LLMChain(prompt=prompt, llm=mixtral_llm)\n",
    "response = llm_chain.invoke(input = {\"adjective\": \"funny\", \"content\": \"chickens\"})\n",
    "print(response[\"text\"])"
   ]
  },
  {
   "cell_type": "markdown",
   "metadata": {},
   "source": [
    "From the response, you can see the LLM came up with a funny joke about chickens.\n",
    "\n",
    "To use this prompt in another context, simply replace the variables accordingly\n"
   ]
  },
  {
   "cell_type": "code",
   "execution_count": 14,
   "metadata": {},
   "outputs": [
    {
     "name": "stdout",
     "output_type": "stream",
     "text": [
      "\n",
      "Why don't fish play basketball? Because they're afraid of the netting! (This joke is a bit sad because it implies the fish are too scared to participate in a fun activity.)\n"
     ]
    }
   ],
   "source": [
    "response = llm_chain.invoke(input = {\"adjective\": \"sad\", \"content\": \"fish\"})\n",
    "print(response[\"text\"])"
   ]
  },
  {
   "cell_type": "markdown",
   "metadata": {},
   "source": [
    "In the following sections, you will learn how to create agents capable of completing various tasks using prompt templates.\n"
   ]
  },
  {
   "cell_type": "markdown",
   "metadata": {},
   "source": [
    "### Text summarization\n"
   ]
  },
  {
   "cell_type": "markdown",
   "metadata": {},
   "source": [
    "Here is a text summarization agent designed to help summarize the content you provide to the LLM. \n",
    "\n",
    "You can store the content to be summarized in a variable, allowing for repeated use of the prompt.\n"
   ]
  },
  {
   "cell_type": "code",
   "execution_count": 15,
   "metadata": {},
   "outputs": [
    {
     "name": "stdout",
     "output_type": "stream",
     "text": [
      "\n",
      "The 21st century's rapid technological advancements, including AI, machine learning, and IoT, have revolutionized healthcare, education, and transportation, enhancing productivity, accuracy, and accessibility while fostering a more interconnected society.\n"
     ]
    }
   ],
   "source": [
    "content = \"\"\"\n",
    "        The rapid advancement of technology in the 21st century has transformed various industries, including healthcare, education, and transportation. \n",
    "        Innovations such as artificial intelligence, machine learning, and the Internet of Things have revolutionized how we approach everyday tasks and complex problems. \n",
    "        For instance, AI-powered diagnostic tools are improving the accuracy and speed of medical diagnoses, while smart transportation systems are making cities more efficient and reducing traffic congestion. \n",
    "        Moreover, online learning platforms are making education more accessible to people around the world, breaking down geographical and financial barriers. \n",
    "        These technological developments are not only enhancing productivity but also contributing to a more interconnected and informed society.\n",
    "\"\"\"\n",
    "\n",
    "template = \"\"\"Summarize the {content} in one sentence.\n",
    "\"\"\"\n",
    "prompt = PromptTemplate.from_template(template)\n",
    "\n",
    "llm_chain = LLMChain(prompt=prompt, llm=mixtral_llm)\n",
    "response = llm_chain.invoke(input = {\"content\": content})\n",
    "print(response[\"text\"])"
   ]
  },
  {
   "cell_type": "markdown",
   "metadata": {},
   "source": [
    "### Question answering\n"
   ]
  },
  {
   "cell_type": "markdown",
   "metadata": {},
   "source": [
    "Here is a Q&A agent. \n",
    "\n",
    "This agent enables the LLM to learn from the provided content and answer questions based on what it has learned. Occasionally, if the LLM does not have sufficient information, it might generate a speculative answer. To manage this, you'll specifically instruct it to respond with \"Unsure about the answer\" if it is uncertain about the correct response.\n"
   ]
  },
  {
   "cell_type": "code",
   "execution_count": 16,
   "metadata": {},
   "outputs": [
    {
     "name": "stdout",
     "output_type": "stream",
     "text": [
      "The rocky and solid planets in the solar system are Mercury, Venus, Earth, and Mars.\n"
     ]
    }
   ],
   "source": [
    "content = \"\"\"\n",
    "        The solar system consists of the Sun, eight planets, their moons, dwarf planets, and smaller objects like asteroids and comets. \n",
    "        The inner planets—Mercury, Venus, Earth, and Mars—are rocky and solid. \n",
    "        The outer planets—Jupiter, Saturn, Uranus, and Neptune—are much larger and gaseous.\n",
    "\"\"\"\n",
    "\n",
    "question = \"Which planets in the solar system are rocky and solid?\"\n",
    "\n",
    "template = \"\"\"\n",
    "            Answer the {question} based on the {content}.\n",
    "            Respond \"Unsure about answer\" if not sure about the answer.\n",
    "            \n",
    "            Answer:\n",
    "            \n",
    "\"\"\"\n",
    "prompt = PromptTemplate.from_template(template)\n",
    "output_key = \"answer\"\n",
    "\n",
    "llm_chain = LLMChain(prompt=prompt, llm=mixtral_llm, output_key=output_key)\n",
    "response = llm_chain.invoke(input = {\"question\":question ,\"content\": content})\n",
    "print(response[\"answer\"])"
   ]
  },
  {
   "cell_type": "markdown",
   "metadata": {},
   "source": [
    "### Text classification\n"
   ]
  },
  {
   "cell_type": "markdown",
   "metadata": {},
   "source": [
    "Here is a text classification agent designed to categorize text into predefined categories. This example employs zero-shot learning, where the agent classifies text without prior exposure to related examples.\n",
    "\n",
    "Can you revise it to the one-shot learning or few-shot learning in the exercises?\n"
   ]
  },
  {
   "cell_type": "code",
   "execution_count": 17,
   "metadata": {},
   "outputs": [
    {
     "name": "stdout",
     "output_type": "stream",
     "text": [
      "Music\n"
     ]
    }
   ],
   "source": [
    "text = \"\"\"\n",
    "        The concert last night was an exhilarating experience with outstanding performances by all artists.\n",
    "\"\"\"\n",
    "\n",
    "categories = \"Entertainment, Food and Dining, Technology, Literature, Music.\"\n",
    "\n",
    "template = \"\"\"\n",
    "            Classify the {text} into one of the {categories}.\n",
    "            \n",
    "            Category:\n",
    "            \n",
    "\"\"\"\n",
    "prompt = PromptTemplate.from_template(template)\n",
    "output_key = \"category\"\n",
    "\n",
    "llm_chain = LLMChain(prompt=prompt, llm=mixtral_llm, output_key=output_key)\n",
    "response = llm_chain.invoke(input = {\"text\":text ,\"categories\": categories})\n",
    "print(response[\"category\"])"
   ]
  },
  {
   "cell_type": "markdown",
   "metadata": {},
   "source": [
    "### Code generation\n"
   ]
  },
  {
   "cell_type": "markdown",
   "metadata": {},
   "source": [
    "Here is an example of an SQL code generation agent. This agent is designed to generate SQL queries based on given descriptions. It interprets the requirements from your input and translates them into executable SQL code.\n"
   ]
  },
  {
   "cell_type": "code",
   "execution_count": 18,
   "metadata": {},
   "outputs": [
    {
     "name": "stdout",
     "output_type": "stream",
     "text": [
      "SELECT c.name, c.email\n",
      "FROM customers c\n",
      "JOIN purchases p ON c.customer_id = p.customer_id\n",
      "WHERE p.purchase_date >= DATEADD(day, -30, GETDATE())\n",
      "\n",
      "Explanation:\n",
      "This SQL query retrieves the names and email addresses of all customers who have made a purchase in the last 30 days. It does this by joining the 'customers' table with the 'purchases' table on the 'customer_id' column. The WHERE clause filters the results to only include purchases made in the last 30 days, using the DATEADD function to subtract 30 days from the current date (GETDATE()).\n"
     ]
    }
   ],
   "source": [
    "description = \"\"\"\n",
    "        Retrieve the names and email addresses of all customers from the 'customers' table who have made a purchase in the last 30 days. \n",
    "        The table 'purchases' contains a column 'purchase_date'\n",
    "\"\"\"\n",
    "\n",
    "template = \"\"\"\n",
    "            Generate an SQL query based on the {description}\n",
    "            \n",
    "            SQL Query:\n",
    "            \n",
    "\"\"\"\n",
    "prompt = PromptTemplate.from_template(template)\n",
    "output_key = \"query\"\n",
    "\n",
    "llm_chain = LLMChain(prompt=prompt, llm=mixtral_llm, output_key=output_key)\n",
    "response = llm_chain.invoke(input = {\"description\":description})\n",
    "print(response[\"query\"])"
   ]
  },
  {
   "cell_type": "markdown",
   "metadata": {},
   "source": [
    "### Role playing\n"
   ]
  },
  {
   "cell_type": "markdown",
   "metadata": {},
   "source": [
    "You can also configure the LLM to assume specific roles as defined by us, enabling it to follow predetermined rules and behave like a task-oriented chatbot.\n",
    "\n",
    "For example, the code below configures the LLM to act as a game master. In this role, the LLM answers questions about games while maintaining an engaging and immersive tone, enhancing the user experience.\n"
   ]
  },
  {
   "cell_type": "markdown",
   "metadata": {},
   "source": [
    "Run the following code to create the prompt template and create a LLMChian to wrap the prompt.\n"
   ]
  },
  {
   "cell_type": "code",
   "execution_count": 19,
   "metadata": {},
   "outputs": [],
   "source": [
    "role = \"\"\"\n",
    "        game master\n",
    "\"\"\"\n",
    "\n",
    "tone = \"engaging and immersive\"\n",
    "\n",
    "template = \"\"\"\n",
    "            You are an expert {role}. I have this question {question}. I would like our conversation to be {tone}.\n",
    "            \n",
    "            Answer:\n",
    "            \n",
    "\"\"\"\n",
    "prompt = PromptTemplate.from_template(template)\n",
    "output_key = \"answer\"\n",
    "\n",
    "llm_chain = LLMChain(prompt=prompt, llm=mixtral_llm, output_key=output_key)"
   ]
  },
  {
   "cell_type": "markdown",
   "metadata": {},
   "source": [
    "The following code will create a game master chatbot that takes your questions as input and provides responses from the model.\n",
    "\n",
    "Run the code below to launch the bot.\n"
   ]
  },
  {
   "cell_type": "markdown",
   "metadata": {},
   "source": [
    "You can test the bot by asking the question, \"Who are you?\" The bot will respond with \"I am a game master,\" indicating it has assumed the role that you predefined.\n",
    "\n",
    "The function is written within a while loop, allowing continuous interaction. To exit the loop and terminate the conversation, type \"quit,\" \"exit,\" or \"bye\" into the input box.\n"
   ]
  },
  {
   "cell_type": "code",
   "execution_count": 21,
   "metadata": {},
   "outputs": [
    {
     "name": "stdin",
     "output_type": "stream",
     "text": [
      "Question:  what comes after March?\n"
     ]
    },
    {
     "name": "stdout",
     "output_type": "stream",
     "text": [
      "Answer:  Ah, a question of time and order, intriguing indeed! As the game master, I shall weave a tale around your query.\n",
      "\n",
      "Imagine, if you will, a grand cosmic clock, its hands spinning through the eons. March, a month of change and renewal, has just passed, its days spent in the dance of spring's first bloom. Now, the clock's hands continue their relentless march forward.\n",
      "\n",
      "April, the cruel tease, arrives first, heralding the promise of warmer days with showers that can be both gentle and fierce. She whispers tales of renewal, of cherry blossoms and Easter eggs, of taxes and baseball. Her days are a mix of the old and the new, a bridge between the past and the future.\n",
      "\n",
      "But April, ever the fickle month, does not linger. She makes way for May, the month of verdant fields and bustling graduations. May is a time of celebration, of life's milestones marked with pomp and circumstance. It's a month that wears many hats - M\n"
     ]
    },
    {
     "name": "stdin",
     "output_type": "stream",
     "text": [
      "Question:  bye\n"
     ]
    },
    {
     "name": "stdout",
     "output_type": "stream",
     "text": [
      "Answer: Goodbye!\n"
     ]
    }
   ],
   "source": [
    "while True:\n",
    "    query = input(\"Question: \")\n",
    "    \n",
    "    if query.lower() in [\"quit\",\"exit\",\"bye\"]:\n",
    "        print(\"Answer: Goodbye!\")\n",
    "        break\n",
    "        \n",
    "    response = llm_chain.invoke(input = {\"role\": role, \"question\": query, \"tone\": tone})\n",
    "    \n",
    "    print(\"Answer: \", response[\"answer\"])"
   ]
  },
  {
   "cell_type": "markdown",
   "metadata": {},
   "source": [
    "Great! You finish the lab. Now let's take some exercises.\n"
   ]
  },
  {
   "cell_type": "markdown",
   "metadata": {},
   "source": [
    "# Exercises\n"
   ]
  },
  {
   "cell_type": "markdown",
   "metadata": {},
   "source": [
    "### Exercise 1: Change parameters for the LLM\n"
   ]
  },
  {
   "cell_type": "markdown",
   "metadata": {},
   "source": [
    "Experiment with changing the parameters of the LLM to observe how different settings impact the responses. Adjusting parameters such as `max_new_tokens`, `temperature`, or `top_p` can significantly alter the behavior of the model. Try different configurations to see how each variation influences the output.\n"
   ]
  },
  {
   "cell_type": "code",
   "execution_count": 22,
   "metadata": {},
   "outputs": [
    {
     "name": "stdout",
     "output_type": "stream",
     "text": [
      " blowing,\n",
      "The wind is blowing,\n",
      "The wind is blowing,\n",
      "The wind is blowing,\n",
      "The wind is blowing,\n",
      "The wind is blowing,\n",
      "The wind is blowing,\n",
      "The wind is blowing,\n",
      "The wind is blowing,\n",
      "The wind is blowing,\n",
      "The wind is blowing,\n",
      "The wind is blowing,\n",
      "The wind is blowing,\n",
      "The wind is blowing,\n",
      "The wind is blowing,\n",
      "The wind is blowing,\n",
      "The wind is blowing,\n",
      "The wind is blowing,\n",
      "The wind is blowing\n"
     ]
    }
   ],
   "source": [
    "\n",
    "params = {\n",
    "    \"max_new_tokens\": 128,\n",
    "    \"min_new_tokens\": 100,\n",
    "    \"temperature\": 1,\n",
    "    \"top_p\": 0.1,\n",
    "    \"top_k\": 1\n",
    "}\n",
    "\n",
    "prompt = \"The wind is\"\n",
    "\n",
    "response = llm_model(prompt, params)\n",
    "print(response)"
   ]
  },
  {
   "cell_type": "markdown",
   "metadata": {},
   "source": [
    "### Exercise 2: Observe how LLM thinks\n"
   ]
  },
  {
   "cell_type": "markdown",
   "metadata": {},
   "source": [
    "You can set `verbose=True` in the `LLMChain()` to observe the thought process of the LLM, gaining insights into how it formulates its responses. Can you make it any agent you created before to observe it?\n"
   ]
  },
  {
   "cell_type": "code",
   "execution_count": 23,
   "metadata": {},
   "outputs": [
    {
     "name": "stdout",
     "output_type": "stream",
     "text": [
      "\n",
      "\n",
      "\u001b[1m> Entering new LLMChain chain...\u001b[0m\n",
      "Prompt after formatting:\n",
      "\u001b[32;1m\u001b[1;3m\n",
      "            Answer the Which planets in the solar system are rocky and solid? based on the \n",
      "        The solar system consists of the Sun, eight planets, their moons, dwarf planets, and smaller objects like asteroids and comets. \n",
      "        The inner planets—Mercury, Venus, Earth, and Mars—are rocky and solid. \n",
      "        The outer planets—Jupiter, Saturn, Uranus, and Neptune—are much larger and gaseous.\n",
      ".\n",
      "            Respond \"Unsure about answer\" if not sure about the answer.\n",
      "            \n",
      "            Answer:\n",
      "            \n",
      "\u001b[0m\n",
      "\n",
      "\u001b[1m> Finished chain.\u001b[0m\n",
      "The rocky and solid planets in the solar system are Mercury, Venus, Earth, and Mars.\n"
     ]
    }
   ],
   "source": [
    "content = \"\"\"\n",
    "        The solar system consists of the Sun, eight planets, their moons, dwarf planets, and smaller objects like asteroids and comets. \n",
    "        The inner planets—Mercury, Venus, Earth, and Mars—are rocky and solid. \n",
    "        The outer planets—Jupiter, Saturn, Uranus, and Neptune—are much larger and gaseous.\n",
    "\"\"\"\n",
    "\n",
    "question = \"Which planets in the solar system are rocky and solid?\"\n",
    "\n",
    "template = \"\"\"\n",
    "            Answer the {question} based on the {content}.\n",
    "            Respond \"Unsure about answer\" if not sure about the answer.\n",
    "            \n",
    "            Answer:\n",
    "            \n",
    "\"\"\"\n",
    "prompt = PromptTemplate.from_template(template)\n",
    "output_key = \"answer\"\n",
    "\n",
    "llm_chain = LLMChain(prompt=prompt, llm=mixtral_llm, output_key=output_key, verbose=True)\n",
    "response = llm_chain.invoke(input = {\"question\":question ,\"content\": content})\n",
    "print(response[\"answer\"])"
   ]
  },
  {
   "cell_type": "markdown",
   "metadata": {},
   "source": [
    "### Exercise 3: Revise the text classification agent to one-shot learning\n"
   ]
  },
  {
   "cell_type": "markdown",
   "metadata": {},
   "source": [
    "You were using zero-shot learning when you created the text classification agent. Can you revise it to use one-shot learning?\n"
   ]
  },
  {
   "cell_type": "code",
   "execution_count": 24,
   "metadata": {},
   "outputs": [
    {
     "name": "stdout",
     "output_type": "stream",
     "text": [
      "\n",
      "Music\n"
     ]
    }
   ],
   "source": [
    "example_text = \"\"\"\n",
    "               Last week's book fair was a delightful gathering of authors and readers, featuring discussions and book signings.\n",
    "               \"\"\"\n",
    "\n",
    "example_category = \"Literature\"\n",
    "\n",
    "text = \"\"\"\n",
    "       The concert last night was an exhilarating experience with outstanding performances by all artists.\n",
    "       \"\"\"\n",
    "\n",
    "categories = \"Entertainment, Food and Dining, Technology, Literature, Music.\"\n",
    "\n",
    "template = \"\"\"\n",
    "           Example:\n",
    "           Text: {example_text}\n",
    "           Category: {example_category}\n",
    "\n",
    "           Now, classify the following text into one of the specified categories: {categories}\n",
    "           \n",
    "           Text: {text}\n",
    "           \n",
    "           Category:\n",
    "           \n",
    "           \"\"\"\n",
    "prompt = PromptTemplate.from_template(template)\n",
    "output_key = \"category\"\n",
    "\n",
    "llm_chain = LLMChain(prompt=prompt, llm=mixtral_llm, output_key=output_key)\n",
    "response = llm_chain.invoke(input = {\"example_text\": example_text, \"example_category\":example_category ,\"categories\": categories, \"text\":text})\n",
    "print(response[\"category\"])"
   ]
  }
 ],
 "metadata": {
  "kernelspec": {
   "display_name": "Python 3 (ipykernel)",
   "language": "python",
   "name": "python3"
  },
  "language_info": {
   "codemirror_mode": {
    "name": "ipython",
    "version": 3
   },
   "file_extension": ".py",
   "mimetype": "text/x-python",
   "name": "python",
   "nbconvert_exporter": "python",
   "pygments_lexer": "ipython3",
   "version": "3.12.8"
  },
  "prev_pub_hash": "913053b97989ac7f4c567f289accb0afa6955eb021c718006d7ca35d184bb3f5"
 },
 "nbformat": 4,
 "nbformat_minor": 4
}
